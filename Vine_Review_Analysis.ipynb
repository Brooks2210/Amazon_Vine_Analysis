{
  "nbformat": 4,
  "nbformat_minor": 0,
  "metadata": {
    "colab": {
      "name": "Vine_Review_Analysis.ipynb",
      "provenance": [],
      "collapsed_sections": []
    },
    "kernelspec": {
      "name": "python3",
      "display_name": "Python 3"
    },
    "language_info": {
      "name": "python"
    }
  },
  "cells": [
    {
      "cell_type": "code",
      "metadata": {
        "colab": {
          "base_uri": "https://localhost:8080/"
        },
        "id": "mqz99Ax8vWp7",
        "outputId": "8812db70-880a-4e05-9553-ae165af15828"
      },
      "source": [
        "import os\n",
        "# Find the latest version of spark 3.0  from http://www-us.apache.org/dist/spark/ and enter as the spark version\n",
        "# For example:\n",
        "# spark_version = 'spark-3.0.2'\n",
        "spark_version = 'spark-3.0.2'\n",
        "os.environ['SPARK_VERSION']=spark_version\n",
        "\n",
        "# Install Spark and Java\n",
        "!apt-get update\n",
        "!apt-get install openjdk-11-jdk-headless -qq > /dev/null\n",
        "!wget -q http://www-us.apache.org/dist/spark/$SPARK_VERSION/$SPARK_VERSION-bin-hadoop2.7.tgz\n",
        "!tar xf $SPARK_VERSION-bin-hadoop2.7.tgz\n",
        "!pip install -q findspark\n",
        "\n",
        "# Set Environment Variables\n",
        "import os\n",
        "os.environ[\"JAVA_HOME\"] = \"/usr/lib/jvm/java-11-openjdk-amd64\"\n",
        "os.environ[\"SPARK_HOME\"] = f\"/content/{spark_version}-bin-hadoop2.7\"\n",
        "\n",
        "# Start a SparkSession\n",
        "import findspark\n",
        "findspark.init()"
      ],
      "execution_count": 1,
      "outputs": [
        {
          "output_type": "stream",
          "text": [
            "\r0% [Working]\r            \rGet:1 https://cloud.r-project.org/bin/linux/ubuntu bionic-cran40/ InRelease [3,626 B]\n",
            "Ign:2 https://developer.download.nvidia.com/compute/cuda/repos/ubuntu1804/x86_64  InRelease\n",
            "Ign:3 https://developer.download.nvidia.com/compute/machine-learning/repos/ubuntu1804/x86_64  InRelease\n",
            "Hit:4 http://archive.ubuntu.com/ubuntu bionic InRelease\n",
            "Get:5 https://developer.download.nvidia.com/compute/cuda/repos/ubuntu1804/x86_64  Release [697 B]\n",
            "Hit:6 https://developer.download.nvidia.com/compute/machine-learning/repos/ubuntu1804/x86_64  Release\n",
            "Get:7 http://ppa.launchpad.net/c2d4u.team/c2d4u4.0+/ubuntu bionic InRelease [15.9 kB]\n",
            "Get:8 https://developer.download.nvidia.com/compute/cuda/repos/ubuntu1804/x86_64  Release.gpg [836 B]\n",
            "Get:9 http://security.ubuntu.com/ubuntu bionic-security InRelease [88.7 kB]\n",
            "Get:10 http://archive.ubuntu.com/ubuntu bionic-updates InRelease [88.7 kB]\n",
            "Hit:11 http://ppa.launchpad.net/cran/libgit2/ubuntu bionic InRelease\n",
            "Get:12 http://archive.ubuntu.com/ubuntu bionic-backports InRelease [74.6 kB]\n",
            "Hit:13 http://ppa.launchpad.net/deadsnakes/ppa/ubuntu bionic InRelease\n",
            "Hit:15 http://ppa.launchpad.net/graphics-drivers/ppa/ubuntu bionic InRelease\n",
            "Ign:16 https://developer.download.nvidia.com/compute/cuda/repos/ubuntu1804/x86_64  Packages\n",
            "Get:16 https://developer.download.nvidia.com/compute/cuda/repos/ubuntu1804/x86_64  Packages [741 kB]\n",
            "Get:17 http://ppa.launchpad.net/c2d4u.team/c2d4u4.0+/ubuntu bionic/main Sources [1,756 kB]\n",
            "Get:18 http://security.ubuntu.com/ubuntu bionic-security/restricted amd64 Packages [396 kB]\n",
            "Get:19 http://security.ubuntu.com/ubuntu bionic-security/main amd64 Packages [2,116 kB]\n",
            "Get:20 http://archive.ubuntu.com/ubuntu bionic-updates/restricted amd64 Packages [426 kB]\n",
            "Get:21 http://security.ubuntu.com/ubuntu bionic-security/multiverse amd64 Packages [24.7 kB]\n",
            "Get:22 http://archive.ubuntu.com/ubuntu bionic-updates/universe amd64 Packages [2,181 kB]\n",
            "Get:23 http://ppa.launchpad.net/c2d4u.team/c2d4u4.0+/ubuntu bionic/main amd64 Packages [899 kB]\n",
            "Get:24 http://archive.ubuntu.com/ubuntu bionic-updates/multiverse amd64 Packages [31.6 kB]\n",
            "Get:25 http://archive.ubuntu.com/ubuntu bionic-updates/main amd64 Packages [2,546 kB]\n",
            "Fetched 11.4 MB in 4s (3,045 kB/s)\n",
            "Reading package lists... Done\n"
          ],
          "name": "stdout"
        }
      ]
    },
    {
      "cell_type": "code",
      "metadata": {
        "id": "q6Jx0v9svXKv"
      },
      "source": [
        "from pyspark.sql import SparkSession\n",
        "spark = SparkSession.builder.appName(\"BigData-Challenge\").config(\"spark.driver.extraClassPath\",\"/content/postgresql-42.2.16.jar\").getOrCreate()"
      ],
      "execution_count": 2,
      "outputs": []
    },
    {
      "cell_type": "code",
      "metadata": {
        "colab": {
          "base_uri": "https://localhost:8080/"
        },
        "id": "HKXzmzysvXN5",
        "outputId": "fc2fbce5-00c1-4119-883c-3c5077747e34"
      },
      "source": [
        "from pyspark import SparkFiles\n",
        "url = \"https://s3.amazonaws.com/amazon-reviews-pds/tsv/amazon_reviews_us_Shoes_v1_00.tsv.gz\"\n",
        "spark.sparkContext.addFile(url)\n",
        "df = spark.read.option(\"encoding\", \"UTF-8\").csv(SparkFiles.get(\"\"), sep=\"\\t\", header=True, inferSchema=True)\n",
        "df.show()"
      ],
      "execution_count": 3,
      "outputs": [
        {
          "output_type": "stream",
          "text": [
            "+-----------+-----------+--------------+----------+--------------+--------------------+----------------+-----------+-------------+-----------+----+-----------------+--------------------+--------------------+-----------+\n",
            "|marketplace|customer_id|     review_id|product_id|product_parent|       product_title|product_category|star_rating|helpful_votes|total_votes|vine|verified_purchase|     review_headline|         review_body|review_date|\n",
            "+-----------+-----------+--------------+----------+--------------+--------------------+----------------+-----------+-------------+-----------+----+-----------------+--------------------+--------------------+-----------+\n",
            "|         US|   18069663|R3P2HIOQCIN5ZU|B000XB31C0|     265024781|Minnetonka Men's ...|           Shoes|          1|            0|          0|   N|                Y|                   .|Do not buy: reall...| 2015-08-31|\n",
            "|         US|   16251825|R12VVR0WH5Q24V|B00CFYZH5W|     259035853|Teva Men's Pajaro...|           Shoes|          5|            0|          0|   N|                Y|     super flip flop|provides great cu...| 2015-08-31|\n",
            "|         US|   20381037| RNCCKB6TV5EEF|B00S8JNN3Q|     666066660|Anne Klein Perfec...|           Shoes|          4|            0|          0|   N|                Y| Great clutch purse!|It's perfect if y...| 2015-08-31|\n",
            "|         US|     108364|R2NZXYIVCGB13W|B00XFBPOQG|     448483263|adidas Men's 10K ...|           Shoes|          5|            0|          6|   N|                Y|              Badass|  Getting what u see| 2015-08-31|\n",
            "|         US|   45449350|R2EQ1TG9IT3OEQ|B00SW64Y9W|       7853171|OverBling Sneaker...|           Shoes|          3|            0|          0|   N|                Y|         Three Stars|               small| 2015-08-31|\n",
            "|         US|   19324665|R1WXA9JSC2H1U1|B011F9E6LI|      14311457|MESSI 15.3 FG/AG ...|           Shoes|          5|            1|          1|   N|                Y|          Five Stars|My 13 year old so...| 2015-08-31|\n",
            "|         US|   50073594|R12ENYLFGGNWRV|B00HAUP1OI|     264821602|Hoka One One Men'...|           Shoes|          5|            1|          1|   N|                Y|Finally, some cus...|Ok, I have been s...| 2015-08-31|\n",
            "|         US|   21706057|R2R07E5PNXEUO5|B00L1RKOKW|     767118055|Olukai Nohea Mesh...|           Shoes|          4|            0|          0|   N|                Y|good deal, but ha...|I went a full siz...| 2015-08-31|\n",
            "|         US|   13708216|R27BA52AKWMWN3|B005WA9MSE|     813856438|Carolina Mens 6\" ...|           Shoes|          5|            0|          0|   N|                Y|... would have to...|I would have to s...| 2015-08-31|\n",
            "|         US|   40542649| RLF8DOID2KD5O|B00BEYQI5C|     661491213|Alegria Women's S...|           Shoes|          3|            0|          0|   N|                Y|           Too small|The size is misle...| 2015-08-31|\n",
            "|         US|   13409446|R369CEXHXHC6NQ|B00EYAFTCQ|     332158165|Naturalizer Women...|           Shoes|          5|            0|          0|   N|                Y|          Five Stars|These shoes are v...| 2015-08-31|\n",
            "|         US|    9451727|R171PPIJXFONVI|B00I0QHY32|      49243908|Forever Link Wome...|           Shoes|          5|            0|          0|   N|                Y|          Five Stars|I love these sand...| 2015-08-31|\n",
            "|         US|     193731|R2JDNM8F2P06FU|B010FZZKYA|     161497902|Versace Collectio...|           Shoes|          4|            1|          1|   N|                Y|          Four Stars|Good quality shoe...| 2015-08-31|\n",
            "|         US|   34798634|R2W977FO4M97XT|B00V8B30K2|     759958795|Twisted Girl's Ch...|           Shoes|          5|            0|          1|   N|                Y|Good shoes, comfo...|My daughter reall...| 2015-08-31|\n",
            "|         US|   37235551|R3AM24QPLI28UY|B00LAVB1TC|     910150896|Travel Smart Hand...|           Shoes|          2|            1|          2|   N|                Y|           Two Stars|         It's okay .| 2015-08-31|\n",
            "|         US|   27081399| REDVXSFYVNT5T|B003C1P8B0|     762792587|Saucony Originals...|           Shoes|          5|            0|          0|   N|                Y|    Love these shoes|Love these shoes!...| 2015-08-31|\n",
            "|         US|     120678|R14AIIK7D6ENDZ|B000W3UL7W|     123724495|Dr. Marten's Wome...|           Shoes|          5|            0|          0|   N|                Y|          Five Stars|                Good| 2015-08-31|\n",
            "|         US|   22272389|R3B1NURKMCVAL1|B00LX65PQO|     848850234|Skechers Performa...|           Shoes|          3|            2|          2|   N|                Y|         Three Stars|I like the go wal...| 2015-08-31|\n",
            "|         US|   19584241|R14Q1GZGV10IMX|B00BEE7N3I|     211637196|Hi-Tec Kid's Nepa...|           Shoes|          4|            0|          0|   N|                Y|          Four Stars|Kids love them fo...| 2015-08-31|\n",
            "|         US|   12334573| R9BHBB06QD6TM|B008NCHMBW|     138572112|Foot Sox Original...|           Shoes|          1|            2|          2|   N|                Y|Tissue paper is t...|Tissue paper is t...| 2015-08-31|\n",
            "+-----------+-----------+--------------+----------+--------------+--------------------+----------------+-----------+-------------+-----------+----+-----------------+--------------------+--------------------+-----------+\n",
            "only showing top 20 rows\n",
            "\n"
          ],
          "name": "stdout"
        }
      ]
    },
    {
      "cell_type": "code",
      "metadata": {
        "colab": {
          "base_uri": "https://localhost:8080/"
        },
        "id": "gul-6bm3vXRH",
        "outputId": "db06eb32-e300-46a5-e2c2-49dd492dd922"
      },
      "source": [
        "# Create the vine DataFrame\n",
        "vine_df = df.select([\"review_id\", \"star_rating\", \"helpful_votes\", \"total_votes\", \"vine\", \"verified_purchase\"])\n",
        "vine_df.show(5)"
      ],
      "execution_count": 4,
      "outputs": [
        {
          "output_type": "stream",
          "text": [
            "+--------------+-----------+-------------+-----------+----+-----------------+\n",
            "|     review_id|star_rating|helpful_votes|total_votes|vine|verified_purchase|\n",
            "+--------------+-----------+-------------+-----------+----+-----------------+\n",
            "|R3P2HIOQCIN5ZU|          1|            0|          0|   N|                Y|\n",
            "|R12VVR0WH5Q24V|          5|            0|          0|   N|                Y|\n",
            "| RNCCKB6TV5EEF|          4|            0|          0|   N|                Y|\n",
            "|R2NZXYIVCGB13W|          5|            0|          6|   N|                Y|\n",
            "|R2EQ1TG9IT3OEQ|          3|            0|          0|   N|                Y|\n",
            "+--------------+-----------+-------------+-----------+----+-----------------+\n",
            "only showing top 5 rows\n",
            "\n"
          ],
          "name": "stdout"
        }
      ]
    },
    {
      "cell_type": "code",
      "metadata": {
        "colab": {
          "base_uri": "https://localhost:8080/"
        },
        "id": "3MLWcej7vXUK",
        "outputId": "66b9ae9f-b6f5-4785-eab1-de370f9793d0"
      },
      "source": [
        "# Review vine schema\n",
        "vine_df.printSchema()"
      ],
      "execution_count": 5,
      "outputs": [
        {
          "output_type": "stream",
          "text": [
            "root\n",
            " |-- review_id: string (nullable = true)\n",
            " |-- star_rating: integer (nullable = true)\n",
            " |-- helpful_votes: integer (nullable = true)\n",
            " |-- total_votes: integer (nullable = true)\n",
            " |-- vine: string (nullable = true)\n",
            " |-- verified_purchase: string (nullable = true)\n",
            "\n"
          ],
          "name": "stdout"
        }
      ]
    },
    {
      "cell_type": "code",
      "metadata": {
        "colab": {
          "base_uri": "https://localhost:8080/"
        },
        "id": "iUFZgsebvXXa",
        "outputId": "3bcf761c-6cfd-461b-f85b-e478cc45d54b"
      },
      "source": [
        "# Step 1: Create a new DataFrame to retrieve all the rows where the total_votes count is equal to or greater than 20\n",
        "revised_vine_df = vine_df.filter(\"total_votes >= 20\")\n",
        "revised_vine_df.show(5)"
      ],
      "execution_count": 6,
      "outputs": [
        {
          "output_type": "stream",
          "text": [
            "+--------------+-----------+-------------+-----------+----+-----------------+\n",
            "|     review_id|star_rating|helpful_votes|total_votes|vine|verified_purchase|\n",
            "+--------------+-----------+-------------+-----------+----+-----------------+\n",
            "|R37F42INKX7L9K|          5|           45|         49|   N|                Y|\n",
            "|R2EHKYNEP8WVSR|          5|           25|         25|   N|                Y|\n",
            "| RXOS7BHID0UHL|          5|           16|         27|   N|                N|\n",
            "|R33HHGFPB403GM|          5|           19|         21|   N|                Y|\n",
            "| RY9O9XNLP464N|          2|           19|         22|   N|                Y|\n",
            "+--------------+-----------+-------------+-----------+----+-----------------+\n",
            "only showing top 5 rows\n",
            "\n"
          ],
          "name": "stdout"
        }
      ]
    },
    {
      "cell_type": "code",
      "metadata": {
        "colab": {
          "base_uri": "https://localhost:8080/"
        },
        "id": "mOlrP1y0vXad",
        "outputId": "f8f24c7a-5a14-4cf8-f380-d14af0b3605c"
      },
      "source": [
        "# Step 2: Create a new DataFrame with all rows where the number of helpful_votes / total_votes is equal to or greater than 50%\n",
        "helpful_vine_df = revised_vine_df.filter(\"(helpful_votes/total_votes) > 0.5\")\n",
        "helpful_vine_df.show(5)"
      ],
      "execution_count": 7,
      "outputs": [
        {
          "output_type": "stream",
          "text": [
            "+--------------+-----------+-------------+-----------+----+-----------------+\n",
            "|     review_id|star_rating|helpful_votes|total_votes|vine|verified_purchase|\n",
            "+--------------+-----------+-------------+-----------+----+-----------------+\n",
            "|R37F42INKX7L9K|          5|           45|         49|   N|                Y|\n",
            "|R2EHKYNEP8WVSR|          5|           25|         25|   N|                Y|\n",
            "| RXOS7BHID0UHL|          5|           16|         27|   N|                N|\n",
            "|R33HHGFPB403GM|          5|           19|         21|   N|                Y|\n",
            "| RY9O9XNLP464N|          2|           19|         22|   N|                Y|\n",
            "+--------------+-----------+-------------+-----------+----+-----------------+\n",
            "only showing top 5 rows\n",
            "\n"
          ],
          "name": "stdout"
        }
      ]
    },
    {
      "cell_type": "code",
      "metadata": {
        "colab": {
          "base_uri": "https://localhost:8080/"
        },
        "id": "NZ_vfwGxwVpy",
        "outputId": "d5f14355-5d10-4c12-ce54-848a08818c25"
      },
      "source": [
        "# Step 3: Create a new DataFrame where a review was written as part of the Vine program (paid), vine == 'Y'\n",
        "paid_vine_df = helpful_vine_df.filter(\"vine == 'Y'\")\n",
        "paid_vine_df.show(5)"
      ],
      "execution_count": 8,
      "outputs": [
        {
          "output_type": "stream",
          "text": [
            "+--------------+-----------+-------------+-----------+----+-----------------+\n",
            "|     review_id|star_rating|helpful_votes|total_votes|vine|verified_purchase|\n",
            "+--------------+-----------+-------------+-----------+----+-----------------+\n",
            "|R2N45ZKRRZS856|          5|           21|         22|   Y|                N|\n",
            "| R5OMLMK13A8NS|          5|           34|         38|   Y|                N|\n",
            "|R2MPEQ4SPTEQNS|          4|          180|        184|   Y|                N|\n",
            "| RIR0D3KJ0CQ31|          4|           21|         21|   Y|                N|\n",
            "|R1SPWJDHUWWC5E|          5|           88|         98|   Y|                N|\n",
            "+--------------+-----------+-------------+-----------+----+-----------------+\n",
            "only showing top 5 rows\n",
            "\n"
          ],
          "name": "stdout"
        }
      ]
    },
    {
      "cell_type": "code",
      "metadata": {
        "colab": {
          "base_uri": "https://localhost:8080/"
        },
        "id": "bvzbDhHGwVt8",
        "outputId": "45c35ba0-3655-4688-96e3-f39b72473351"
      },
      "source": [
        "# Step 4: Create a new DataFrame where the review was not part of the Vine program (unpaid), vine == 'N'\n",
        "unpaid_vine_df = helpful_vine_df.filter(\"vine == 'N'\")\n",
        "unpaid_vine_df.show(5)"
      ],
      "execution_count": 9,
      "outputs": [
        {
          "output_type": "stream",
          "text": [
            "+--------------+-----------+-------------+-----------+----+-----------------+\n",
            "|     review_id|star_rating|helpful_votes|total_votes|vine|verified_purchase|\n",
            "+--------------+-----------+-------------+-----------+----+-----------------+\n",
            "|R37F42INKX7L9K|          5|           45|         49|   N|                Y|\n",
            "|R2EHKYNEP8WVSR|          5|           25|         25|   N|                Y|\n",
            "| RXOS7BHID0UHL|          5|           16|         27|   N|                N|\n",
            "|R33HHGFPB403GM|          5|           19|         21|   N|                Y|\n",
            "| RY9O9XNLP464N|          2|           19|         22|   N|                Y|\n",
            "+--------------+-----------+-------------+-----------+----+-----------------+\n",
            "only showing top 5 rows\n",
            "\n"
          ],
          "name": "stdout"
        }
      ]
    },
    {
      "cell_type": "code",
      "metadata": {
        "id": "VxwRYHYPvXdy"
      },
      "source": [
        "# Step 5: Determine the total number of reviews, the number of 5-star reviews, and the percentage of 5-star reviews (paid vs unpaid).\n",
        "total_reviews = helpful_vine_df.count()\n",
        "total_paid_reviews = paid_vine_df.count()\n",
        "total_unpaid_reviews = unpaid_vine_df.count()\n",
        "total_paid_5_star = paid_vine_df.filter(\"star_rating == 5\").count()\n",
        "total_unpaid_5_star = unpaid_vine_df.filter(\"star_rating == 5\").count()\n",
        "percent_paid_5_star = total_paid_5_star / total_paid_reviews * 100\n",
        "percent_unpaid_5_star = total_unpaid_5_star / total_unpaid_reviews * 100"
      ],
      "execution_count": 10,
      "outputs": []
    },
    {
      "cell_type": "code",
      "metadata": {
        "colab": {
          "base_uri": "https://localhost:8080/"
        },
        "id": "1AXsGu4IvXg3",
        "outputId": "2f323d70-94df-4ff8-a6f8-f13071ba0b18"
      },
      "source": [
        "# Print the results from Step 5\n",
        "\n",
        "print(f\"Total Reviews: {total_reviews}\")\n",
        "print(f\"Total Vine Reviews (paid) vs Non-Vine Reviews (unpaid): {total_paid_reviews} vs. {total_unpaid_reviews}\")\n",
        "print(f\"Total 5-Star Vine Reviews vs Non-Vine Reviews: {total_paid_5_star} vs. {total_unpaid_5_star}\")\n",
        "print(f\"Percentage of Vine vs Non-Vine reviews which received 5-stars: {percent_paid_5_star:.2f}% vs. {percent_unpaid_5_star:.2f}%\")"
      ],
      "execution_count": 11,
      "outputs": [
        {
          "output_type": "stream",
          "text": [
            "Total Reviews: 26993\n",
            "Total Vine Reviews (paid) vs Non-Vine Reviews (unpaid): 22 vs. 26971\n",
            "Total 5-Star Vine Reviews vs Non-Vine Reviews: 13 vs. 14475\n",
            "Percentage of Vine vs Non-Vine reviews which received 5-stars: 59.09% vs. 53.67%\n"
          ],
          "name": "stdout"
        }
      ]
    }
  ]
}